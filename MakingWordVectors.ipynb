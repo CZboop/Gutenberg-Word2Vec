{
  "nbformat": 4,
  "nbformat_minor": 0,
  "metadata": {
    "colab": {
      "name": "MakingWordVectors.ipynb",
      "provenance": [],
      "collapsed_sections": []
    },
    "kernelspec": {
      "name": "python3",
      "display_name": "Python 3"
    },
    "language_info": {
      "name": "python"
    },
    "accelerator": "GPU"
  },
  "cells": [
    {
      "cell_type": "code",
      "source": [
        "# read in the text \n",
        "import pandas as pd \n",
        "import csv\n",
        "\n",
        "df = pd.read_csv('Gutenberg-Poetry.csv', header=0, delimiter=\",\",  \n",
        "                       encoding='utf-8')\n",
        "\n",
        "\n",
        "df.columns =  ['index', 'text', 'gid' ]\n",
        "print(df.head(100))\n",
        "\n",
        "\n"
      ],
      "metadata": {
        "id": "5XDMBZKTL5sD"
      },
      "execution_count": null,
      "outputs": []
    },
    {
      "cell_type": "code",
      "source": [
        "lines = []\n",
        "\n",
        "for row in df.itertuples(index=True, name='Pandas'):\n",
        "      lines.append(row.text)"
      ],
      "metadata": {
        "id": "tENMPFPbD5sK"
      },
      "execution_count": 10,
      "outputs": []
    },
    {
      "cell_type": "code",
      "source": [
        "print(lines[-100:])"
      ],
      "metadata": {
        "colab": {
          "base_uri": "https://localhost:8080/"
        },
        "id": "mUu7sMx0EVdq",
        "outputId": "27c7a789-2357-4ffd-ada4-c35c7b7fb2e2"
      },
      "execution_count": 12,
      "outputs": [
        {
          "output_type": "stream",
          "name": "stdout",
          "text": [
            "['And straight the spirits that inhabit dream', 'Came round him, and the rain-squall roared its last', 'And bright the wind-vane shifted as it passed.', 'And in the rush of sun and glittering cloud', 'That followed on the storm, he led the way,', 'Fluting the sodden circus through the crowd', 'That trod the city streets in holiday.', 'And lo, a marvellous thing, the gouted clay,', 'Splashed on the waggons and the horses, glowed,', 'They shone like embers as they trod the road.', 'And round the tired horses came the Powers', \"That stir men's spirits, waking or asleep,\", 'To thoughts like planets and to acts like flowers,', \"Out of the inner wisdom's beauty deep:\", 'These led the horses, and, as marshalled sheep', 'Fronting a dog, in line, the people stared', 'At those bright waggons led by the bright-haired.', 'And, as they marched, the spirits sang, and all', 'The horses crested to the tune and stept', 'Like centaurs to a passionate festival', 'With shining throats that mantling criniers swept.', 'And all the hearts of all the watchers leapt', 'To see those horses passing and to hear', 'That song that came like blessing to the ear.', 'And, to the crowd, the circus artists seemed', 'Splendid, because the while that singing quired', 'Each artist was the part that he had dreamed', 'And glittered with the Power he desired,', 'Women and men, no longer wet or tired', 'From long despair, now shone like queens and kings,', 'There they were crowned with their imaginings.', 'And with them, walking by the vans, there came', 'The wild things from the woodland and the mead,', 'The red stag, with his tender-stepping dame,', 'Branched, and high-tongued and ever taking heed.', 'Nose-wrinkling rabbits nibbling at the weed,', 'The hares that box by moonlight on the hill,', \"The bright trout's death, the otter from the mill.\", 'There, with his mask made virtuous, came the fox,', 'Talking of landscape while he thought of meat;', 'Blood-loving weasels, honey-harrying brocks,', 'Stoats, and the mice that build among the wheat,', 'Dormice, and moles with little hands for feet,', 'The water-rat that gnaws the yellow flag,', 'Toads from the stone and merrows from the quag.', 'And over them flew birds of every kind,', 'Whose way, or song, or speed, or beauty brings', 'Delight and understanding to the mind;', 'The bright-eyed, feathery, thready-legged things.', 'There they, too, sang amid a rush of wings,', 'With sweet, clear cries and gleams from wing and crest,', 'Blue, scarlet, white, gold plume and speckled breast.', 'And all the vans seemed grown with living leaves', 'And living flowers, the best September knows,', 'Moist poppies scarlet from the Hilcote sheaves,', 'Green-fingered bine that runs the barley-rows,', 'Pale candylips, and those intense blue blows', 'That trail the porches in the autumn dusk,', 'Tempting the noiseless moth to tongue their musk.', 'So, tired thus, so tended, and so sung,', 'They crossed the city through the marvelling crowd.', 'Maids with wide eyes from upper windows hung,', 'The children waved their toys and sang aloud.', 'But in his van the beaten showman bowed', 'His head upon his hands, and wept, not knowing', 'Aught of what passed except that wind was blowing.', 'All through the town the fluting led them on,', 'But near the western gate King Cole retired;', 'And, as he ceased, the vans no longer shone,', 'The bright procession dimmed like lamps expired;', 'Again with muddy vans and horses tired,', 'And artists cross and women out of luck,', 'The sodden circus plodded through the muck.', 'The crowd of following children loitered home;', 'Maids shut the windows lest more rain should come;', 'The circus left the streets of flowers and flags,', 'King Cole walked with it, huddling in his rags.', 'They reached the western gate and sought to pass.', '\"Take back this frowsy show to where it was,\"', 'The sergeant of the gateway-sentry cried;', '\"You know quite well you cannot pass outside.\"', 'But we were told to pass here, by the guard.', 'Here are the printed orders on the card.', 'No traffic, you can read. Clear out.', 'But where?', \"Where you're not kicked from, or there's room to spare.\", 'Go back and out of town the way you came.', \"I've just been sent from there. Is this a game?\", \"You'll find it none, my son, if that's your tone.\", \"You redcoats; ev'n your boots are not your own.\", \"No, they're the Queen's; I represent the Queen.\", \"Pipeclay your week's accounts, you red marine.\", 'Thank you, I will. Now vanish. Right-about.', 'Right, kick the circus in or kick it out,', \"But kick us, kick us hard, we've got no friends,\", \"We've no Queen's boots or busbies on our ends;\", \"We're poor, we like it, no one cares; besides\", 'These dirty artists ought to have thick hides.', 'The dust, like us, is fit for boots to stamp,', 'None but Queen']\n"
          ]
        }
      ]
    },
    {
      "cell_type": "code",
      "source": [
        "import nltk\n",
        "from nltk.tokenize import word_tokenize\n",
        "from nltk.corpus import stopwords\n",
        "nltk.download('stopwords')"
      ],
      "metadata": {
        "colab": {
          "base_uri": "https://localhost:8080/"
        },
        "id": "0Lq0Zy_zzfIF",
        "outputId": "48a7403c-544d-4136-f0e8-d0983053fa9a"
      },
      "execution_count": 13,
      "outputs": [
        {
          "output_type": "stream",
          "name": "stdout",
          "text": [
            "[nltk_data] Downloading package stopwords to /root/nltk_data...\n",
            "[nltk_data]   Package stopwords is already up-to-date!\n"
          ]
        },
        {
          "output_type": "execute_result",
          "data": {
            "text/plain": [
              "True"
            ]
          },
          "metadata": {},
          "execution_count": 13
        }
      ]
    },
    {
      "cell_type": "code",
      "source": [
        "nltk.download('punkt')"
      ],
      "metadata": {
        "colab": {
          "base_uri": "https://localhost:8080/"
        },
        "id": "m4lin2Joz1Fc",
        "outputId": "376bd147-abfb-45db-e973-15dc22951e6e"
      },
      "execution_count": 14,
      "outputs": [
        {
          "output_type": "stream",
          "name": "stdout",
          "text": [
            "[nltk_data] Downloading package punkt to /root/nltk_data...\n",
            "[nltk_data]   Unzipping tokenizers/punkt.zip.\n"
          ]
        },
        {
          "output_type": "execute_result",
          "data": {
            "text/plain": [
              "True"
            ]
          },
          "metadata": {},
          "execution_count": 14
        }
      ]
    },
    {
      "cell_type": "code",
      "source": [
        "# clean the text - lowercase, remove stopwords, remove special chars, split into sentences and remove v short sentences\n",
        "import re\n",
        "\n",
        "stops = set(stopwords.words('english'))\n",
        "\n",
        "raw_text = \".\".join(lines)\n",
        "text = raw_text.lower()\n",
        "text = text.replace(\"’\", \"'\")\n",
        "text = re.sub(\"[^A-Za-z'.]\", \" \", text)\n",
        "\n",
        "text_cleaned = \" \".join([i for i in text.split(\" \") if i not in stops])\n",
        "text_cleaned = re.sub(\"[ ]+\", \" \", text_cleaned)\n",
        "\n",
        "# removing very short sentences\n",
        "sentences = text_cleaned.split(\".\")\n",
        "sentences = [i.strip() for i in sentences if len(i.strip().split(\" \")) > 2]\n",
        "\n",
        "print(sentences[:10])\n",
        "\n",
        "# might remove plurals manually just check if without s in the data and replace\n",
        "# unsure if stopwords were successfully removed, since a lot of top words were borderline could be stopwords, check this\n",
        "\n"
      ],
      "metadata": {
        "id": "RbNfE-W-PYhf",
        "colab": {
          "base_uri": "https://localhost:8080/"
        },
        "outputId": "4cccca42-63c6-4d59-e243-0f0a615e4246"
      },
      "execution_count": 17,
      "outputs": [
        {
          "output_type": "stream",
          "name": "stdout",
          "text": [
            "['song hiawatha based legends stories of', 'many north american indian tribes especially the', 'ojibway indians northern michigan wisconsin minnesota', 'they collected henry rowe schoolcraft reknowned', 'schoolcraft married jane bah bahm wawa ge zhe go qua the', 'fur trader shau gus coday way qua woman green', 'prairie daughter waub jeeg white fisher', 'who chief ojibway tribe la pointe wisconsin', 'jane mother credited researched', 'authenticated compiled much material schoolcraft']\n"
          ]
        }
      ]
    },
    {
      "cell_type": "code",
      "source": [
        "# identify phrases that might skew (eg one meaning across two words not two strongly related words)\n",
        "from gensim.models.phrases import Phrases, Phraser\n",
        "\n",
        "words_list = [i.split() for i in sentences]\n",
        "\n",
        "phrases = Phrases(words_list, min_count=30, progress_per=10000)\n",
        "print(words_list)"
      ],
      "metadata": {
        "id": "4BzW9GdmR-b8",
        "colab": {
          "base_uri": "https://localhost:8080/"
        },
        "outputId": "d274f6c2-ff31-46d9-b1a0-63ee484114c9"
      },
      "execution_count": 18,
      "outputs": [
        {
          "output_type": "stream",
          "name": "stderr",
          "text": [
            "IOPub data rate exceeded.\n",
            "The notebook server will temporarily stop sending output\n",
            "to the client in order to avoid crashing it.\n",
            "To change this limit, set the config variable\n",
            "`--NotebookApp.iopub_data_rate_limit`.\n",
            "\n",
            "Current values:\n",
            "NotebookApp.iopub_data_rate_limit=1000000.0 (bytes/sec)\n",
            "NotebookApp.rate_limit_window=3.0 (secs)\n",
            "\n"
          ]
        }
      ]
    },
    {
      "cell_type": "code",
      "source": [
        "bigram = Phraser(phrases)\n",
        "sents = bigram[words_list]"
      ],
      "metadata": {
        "id": "Rx_3INw93TEn"
      },
      "execution_count": 19,
      "outputs": []
    },
    {
      "cell_type": "code",
      "source": [
        "# check most frequent words:\n",
        "from collections import defaultdict\n",
        "word_freq = defaultdict(int)\n",
        "for sent in sents:\n",
        "    for i in sent:\n",
        "        word_freq[i] += 1\n",
        "len(word_freq)\n",
        "sorted(word_freq, key=word_freq.get, reverse=True)[:10]"
      ],
      "metadata": {
        "colab": {
          "base_uri": "https://localhost:8080/"
        },
        "id": "kOLIwBxO3yeF",
        "outputId": "2d93d8d8-3096-4c44-be7e-a78084c91341"
      },
      "execution_count": 20,
      "outputs": [
        {
          "output_type": "execute_result",
          "data": {
            "text/plain": [
              "['and', 'the', 'to', 'thy', 'but', 'i', 'of', 'that', 'in', 'one']"
            ]
          },
          "metadata": {},
          "execution_count": 20
        }
      ]
    },
    {
      "cell_type": "code",
      "source": [
        "import multiprocessing\n",
        "from gensim.models import Word2Vec \n"
      ],
      "metadata": {
        "id": "Hs1bw8BJ4Q4a"
      },
      "execution_count": 21,
      "outputs": []
    },
    {
      "cell_type": "code",
      "source": [
        "cores = multiprocessing.cpu_count()\n",
        "cores"
      ],
      "metadata": {
        "colab": {
          "base_uri": "https://localhost:8080/"
        },
        "id": "XhhYCgxo5x65",
        "outputId": "0243ba01-2149-4a3b-fffd-7399b0451ba8"
      },
      "execution_count": 22,
      "outputs": [
        {
          "output_type": "execute_result",
          "data": {
            "text/plain": [
              "2"
            ]
          },
          "metadata": {},
          "execution_count": 22
        }
      ]
    },
    {
      "cell_type": "code",
      "source": [
        "wtv_model = Word2Vec(min_count=10,\n",
        "                     window=2,\n",
        "                     size=300,\n",
        "                     sample=6e-5, \n",
        "                     alpha=0.03, \n",
        "                     min_alpha=0.0007, \n",
        "                     negative=20,\n",
        "                     workers=cores-1)"
      ],
      "metadata": {
        "id": "mRNcObD86RnH"
      },
      "execution_count": 26,
      "outputs": []
    },
    {
      "cell_type": "code",
      "source": [
        "wtv_model.build_vocab(sents, progress_per=10000)"
      ],
      "metadata": {
        "id": "Jqpsu5aw6bFx"
      },
      "execution_count": 27,
      "outputs": []
    },
    {
      "cell_type": "code",
      "source": [
        "wtv_model.train(sents, total_examples=wtv_model.corpus_count, epochs=30, report_delay=1)\n"
      ],
      "metadata": {
        "colab": {
          "base_uri": "https://localhost:8080/"
        },
        "id": "LJ-sO2L66rD6",
        "outputId": "e9b1d062-07d9-4453-9a98-90420c1186cb"
      },
      "execution_count": 28,
      "outputs": [
        {
          "output_type": "execute_result",
          "data": {
            "text/plain": [
              "(199719523, 319534170)"
            ]
          },
          "metadata": {},
          "execution_count": 28
        }
      ]
    },
    {
      "cell_type": "code",
      "source": [
        "# can save the model etc.\n",
        "wtv_model.save(\"word2vec.model\")"
      ],
      "metadata": {
        "id": "QJXERCLcGNQm"
      },
      "execution_count": 29,
      "outputs": []
    },
    {
      "cell_type": "code",
      "source": [
        "wtv_model.init_sims(replace=True)"
      ],
      "metadata": {
        "id": "_I0vNrV37IOA"
      },
      "execution_count": 30,
      "outputs": []
    },
    {
      "cell_type": "code",
      "source": [
        "# note, so far have neither stemmed or lemmatized which should do and remake model, and maybe add more data\n",
        "print(wtv_model.most_similar('lord'))"
      ],
      "metadata": {
        "colab": {
          "base_uri": "https://localhost:8080/"
        },
        "id": "FHftSJVq7TTu",
        "outputId": "b7f5a68f-aee6-4c93-a014-695cb0e52456"
      },
      "execution_count": 31,
      "outputs": [
        {
          "output_type": "stream",
          "name": "stdout",
          "text": [
            "[('king', 0.7384674549102783), ('god', 0.6446132659912109), ('father', 0.6049135327339172), ('prince', 0.597366452217102), ('son', 0.5629732012748718), ('sire', 0.5251263380050659), ('friend', 0.513664722442627), ('thee', 0.5087589025497437), ('queen', 0.5084806680679321), ('brother', 0.4816444516181946)]\n"
          ]
        },
        {
          "output_type": "stream",
          "name": "stderr",
          "text": [
            "/usr/local/lib/python3.7/dist-packages/ipykernel_launcher.py:2: DeprecationWarning: Call to deprecated `most_similar` (Method will be removed in 4.0.0, use self.wv.most_similar() instead).\n",
            "  \n"
          ]
        }
      ]
    }
  ]
}